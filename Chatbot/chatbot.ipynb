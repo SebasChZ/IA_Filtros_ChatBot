{
 "cells": [
  {
   "cell_type": "code",
   "execution_count": 9,
   "metadata": {},
   "outputs": [
    {
     "name": "stdout",
     "output_type": "stream",
     "text": [
      "Chatbot: El clima en Costa Rica es tropical con una estación seca de diciembre a abril y una estación lluviosa de mayo a noviembre.\n"
     ]
    }
   ],
   "source": [
    "# Utilizamos la librería sentence-transformers para obtener el vector de embeddings de una frase\n",
    "from sentence_transformers import SentenceTransformer, util\n",
    "import numpy as np\n",
    "\n",
    "# Paso 1: Definir respuestas predefinidas\n",
    "respuestas = [\n",
    "    \"Los mejores destinos turísticos en Costa Rica incluyen el Parque Nacional Manuel Antonio, el Volcán Arenal y las playas de Guanacaste.\",\n",
    "    \"Para viajar por Costa Rica, puedes utilizar transporte público como buses y taxis, o rentar un coche para más flexibilidad.\",\n",
    "    \"El clima en Costa Rica es tropical con una estación seca de diciembre a abril y una estación lluviosa de mayo a noviembre.\",\n",
    "    \"La moneda oficial de Costa Rica es el colón costarricense. Los dólares estadounidenses también son ampliamente aceptados.\",\n",
    "    \"Se recomienda vacunarse contra el tifus y la hepatitis A y B antes de viajar a Costa Rica.\",\n",
    "    \"Los idiomas oficiales de Costa Rica son el español. Sin embargo, el inglés es comúnmente hablado en áreas turísticas.\",\n",
    "    \"Si buscas actividades de aventura, Costa Rica ofrece rafting, senderismo y canopy en varios parques nacionales.\",\n",
    "    \"En Costa Rica, es importante respetar la naturaleza y seguir todas las regulaciones ambientales para proteger la biodiversidad.\",\n",
    "    \"Para estadías prolongadas, considera alquilar un apartamento o casa en lugar de quedarte en hoteles, para una experiencia más local.\",\n",
    "    \"Para cualquier emergencia, puedes llamar al 911. El servicio está disponible en todo el país.\"\n",
    "]\n",
    "\n",
    "# Paso 2: Crear embeddings para las respuestas\n",
    "modelo = SentenceTransformer('all-MiniLM-L6-v2')\n",
    "respuestas_embeddings = modelo.encode(respuestas)\n",
    "\n",
    "# for sentence, embedding in zip(respuestas, respuestas_embeddings):\n",
    "#     print(\"Sentence:\", sentence)\n",
    "#     print(\"Embedding:\", embedding)\n",
    "#     print(\"\")\n",
    "\n",
    "\n",
    "def obtener_respuesta(pregunta):\n",
    "    # Paso 3: Transformar la pregunta del usuario en un embedding\n",
    "    pregunta_embedding = modelo.encode(pregunta)\n",
    "\n",
    "    # Paso 4: Comparar embeddings usando similitud de coseno\n",
    "    similitudes = util.cos_sim(pregunta_embedding, respuestas_embeddings)\n",
    "\n",
    "    # Identificar la respuesta con mayor similitud\n",
    "    indice_respuesta = np.argmax(similitudes)\n",
    "\n",
    "    # Paso 5: Devolver la respuesta más similar\n",
    "    return respuestas[indice_respuesta]\n",
    "\n",
    "# Ejemplo de uso\n",
    "pregunta_usuario = \"¿Qué debería saber sobre el clima en Costa Rica?\"\n",
    "respuesta_chatbot = obtener_respuesta(pregunta_usuario)\n",
    "print(\"Chatbot:\", respuesta_chatbot)\n",
    "\n",
    "\n"
   ]
  }
 ],
 "metadata": {
  "kernelspec": {
   "display_name": "Python 3",
   "language": "python",
   "name": "python3"
  },
  "language_info": {
   "codemirror_mode": {
    "name": "ipython",
    "version": 3
   },
   "file_extension": ".py",
   "mimetype": "text/x-python",
   "name": "python",
   "nbconvert_exporter": "python",
   "pygments_lexer": "ipython3",
   "version": "3.11.7"
  }
 },
 "nbformat": 4,
 "nbformat_minor": 2
}
