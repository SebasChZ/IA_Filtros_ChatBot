{
 "cells": [
  {
   "cell_type": "code",
   "execution_count": null,
   "metadata": {},
   "outputs": [],
   "source": [
    "# Utilizamos la librería sentence-transformers para obtener el vector de embeddings de una frase\n",
    "from sentence_transformers import SentenceTransformer, util\n",
    "import numpy as np\n",
    "\n",
    "#Respuestas predefinidas\n",
    "respuestas = [\n",
    "    \"Los mejores destinos turísticos en Costa Rica incluyen el Parque Nacional Manuel Antonio, el Volcán Arenal y las playas de Guanacaste.\",\n",
    "    \"Para viajar por Costa Rica, puedes utilizar transporte público como buses y taxis, o rentar un coche para más flexibilidad.\",\n",
    "    \"El clima en Costa Rica es tropical con una estación seca de diciembre a abril y una estación lluviosa de mayo a noviembre.\",\n",
    "    \"La moneda oficial de Costa Rica es el colón costarricense. Los dólares estadounidenses también son ampliamente aceptados.\",\n",
    "    \"Se recomienda vacunarse contra el tifus y la hepatitis A y B antes de viajar a Costa Rica.\",\n",
    "    \"Los idiomas oficiales de Costa Rica son el español. Sin embargo, el inglés es comúnmente hablado en áreas turísticas.\",\n",
    "    \"Si buscas actividades de aventura, Costa Rica ofrece rafting, senderismo y canopy en varios parques nacionales.\",\n",
    "    \"En Costa Rica, es importante respetar la naturaleza y seguir todas las regulaciones ambientales para proteger la biodiversidad.\",\n",
    "    \"Para estadías prolongadas, considera alquilar un apartamento o casa en lugar de quedarte en hoteles, para una experiencia más local.\",\n",
    "    \"Para cualquier emergencia, puedes llamar al 911. El servicio está disponible en todo el país.\"\n",
    "]\n",
    "\n",
    "modelo = SentenceTransformer('all-MiniLM-L6-v2')\n",
    "respuestas_embeddings = modelo.encode(respuestas) #Transforma las respuestas en embeddings\n",
    "\n",
    "dataset_de_conocimiento = list(zip(respuestas, respuestas_embeddings)) #Convertir las respuestas en embeddings y almacenarlo en un dataset de conocimiento\n",
    "\n",
    "\n",
    "def generar_respuesta(pregunta):\n",
    "    pregunta_embedding = modelo.encode(pregunta) #Convertir la pregunta del usuario en embeddings\n",
    "    max_similitud = -1\n",
    "    respuesta_seleccionada = \"\"\n",
    "    for respuesta, emb in dataset_de_conocimiento:\n",
    "        similitud = util.cos_sim(pregunta_embedding, emb)[0][0] #Comparar los embeddings con similitud de coseno y mostrar la respuesta más acorde\n",
    "        if similitud > max_similitud:\n",
    "            max_similitud = similitud\n",
    "            respuesta_seleccionada = respuesta\n",
    "    return respuesta_seleccionada\n",
    "\n",
    "\n",
    "pregunta_usuario = \"¿Qué debería saber sobre el clima en Costa Rica?\"\n",
    "respuesta_chatbot = generar_respuesta(pregunta_usuario)\n",
    "print(\"Chatbot:\", respuesta_chatbot)"
   ]
  }
 ],
 "metadata": {
  "language_info": {
   "name": "python"
  }
 },
 "nbformat": 4,
 "nbformat_minor": 2
}
