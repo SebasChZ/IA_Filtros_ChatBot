{
 "cells": [
  {
   "cell_type": "code",
   "execution_count": 2,
   "metadata": {},
   "outputs": [
    {
     "ename": "ImportError",
     "evalue": "cannot import name 'is_nltk_available' from 'transformers.utils.import_utils' (c:\\Users\\kelvi\\anaconda3\\Lib\\site-packages\\transformers\\utils\\import_utils.py)",
     "output_type": "error",
     "traceback": [
      "\u001b[1;31m---------------------------------------------------------------------------\u001b[0m",
      "\u001b[1;31mImportError\u001b[0m                               Traceback (most recent call last)",
      "Cell \u001b[1;32mIn[2], line 2\u001b[0m\n\u001b[0;32m      1\u001b[0m \u001b[38;5;66;03m# Utilizamos la librería sentence-transformers para obtener el vector de embeddings de una frase\u001b[39;00m\n\u001b[1;32m----> 2\u001b[0m \u001b[38;5;28;01mfrom\u001b[39;00m \u001b[38;5;21;01msentence_transformers\u001b[39;00m \u001b[38;5;28;01mimport\u001b[39;00m SentenceTransformer, util\n\u001b[0;32m      3\u001b[0m \u001b[38;5;28;01mimport\u001b[39;00m \u001b[38;5;21;01mnumpy\u001b[39;00m \u001b[38;5;28;01mas\u001b[39;00m \u001b[38;5;21;01mnp\u001b[39;00m\n\u001b[0;32m      5\u001b[0m \u001b[38;5;66;03m#Respuestas predefinidas\u001b[39;00m\n",
      "File \u001b[1;32mc:\\Users\\kelvi\\anaconda3\\Lib\\site-packages\\sentence_transformers\\__init__.py:3\u001b[0m\n\u001b[0;32m      1\u001b[0m __version__ \u001b[38;5;241m=\u001b[39m \u001b[38;5;124m\"\u001b[39m\u001b[38;5;124m2.6.1\u001b[39m\u001b[38;5;124m\"\u001b[39m\n\u001b[0;32m      2\u001b[0m __MODEL_HUB_ORGANIZATION__ \u001b[38;5;241m=\u001b[39m \u001b[38;5;124m\"\u001b[39m\u001b[38;5;124msentence-transformers\u001b[39m\u001b[38;5;124m\"\u001b[39m\n\u001b[1;32m----> 3\u001b[0m \u001b[38;5;28;01mfrom\u001b[39;00m \u001b[38;5;21;01m.\u001b[39;00m\u001b[38;5;21;01mdatasets\u001b[39;00m \u001b[38;5;28;01mimport\u001b[39;00m SentencesDataset, ParallelSentencesDataset\n\u001b[0;32m      4\u001b[0m \u001b[38;5;28;01mfrom\u001b[39;00m \u001b[38;5;21;01m.\u001b[39;00m\u001b[38;5;21;01mLoggingHandler\u001b[39;00m \u001b[38;5;28;01mimport\u001b[39;00m LoggingHandler\n\u001b[0;32m      5\u001b[0m \u001b[38;5;28;01mfrom\u001b[39;00m \u001b[38;5;21;01m.\u001b[39;00m\u001b[38;5;21;01mSentenceTransformer\u001b[39;00m \u001b[38;5;28;01mimport\u001b[39;00m SentenceTransformer\n",
      "File \u001b[1;32mc:\\Users\\kelvi\\anaconda3\\Lib\\site-packages\\sentence_transformers\\datasets\\__init__.py:1\u001b[0m\n\u001b[1;32m----> 1\u001b[0m \u001b[38;5;28;01mfrom\u001b[39;00m \u001b[38;5;21;01m.\u001b[39;00m\u001b[38;5;21;01mDenoisingAutoEncoderDataset\u001b[39;00m \u001b[38;5;28;01mimport\u001b[39;00m DenoisingAutoEncoderDataset\n\u001b[0;32m      2\u001b[0m \u001b[38;5;28;01mfrom\u001b[39;00m \u001b[38;5;21;01m.\u001b[39;00m\u001b[38;5;21;01mNoDuplicatesDataLoader\u001b[39;00m \u001b[38;5;28;01mimport\u001b[39;00m NoDuplicatesDataLoader\n\u001b[0;32m      3\u001b[0m \u001b[38;5;28;01mfrom\u001b[39;00m \u001b[38;5;21;01m.\u001b[39;00m\u001b[38;5;21;01mParallelSentencesDataset\u001b[39;00m \u001b[38;5;28;01mimport\u001b[39;00m ParallelSentencesDataset\n",
      "File \u001b[1;32mc:\\Users\\kelvi\\anaconda3\\Lib\\site-packages\\sentence_transformers\\datasets\\DenoisingAutoEncoderDataset.py:5\u001b[0m\n\u001b[0;32m      3\u001b[0m \u001b[38;5;28;01mfrom\u001b[39;00m \u001b[38;5;21;01m.\u001b[39;00m\u001b[38;5;21;01m.\u001b[39;00m\u001b[38;5;21;01mreaders\u001b[39;00m\u001b[38;5;21;01m.\u001b[39;00m\u001b[38;5;21;01mInputExample\u001b[39;00m \u001b[38;5;28;01mimport\u001b[39;00m InputExample\n\u001b[0;32m      4\u001b[0m \u001b[38;5;28;01mimport\u001b[39;00m \u001b[38;5;21;01mnumpy\u001b[39;00m \u001b[38;5;28;01mas\u001b[39;00m \u001b[38;5;21;01mnp\u001b[39;00m\n\u001b[1;32m----> 5\u001b[0m \u001b[38;5;28;01mfrom\u001b[39;00m \u001b[38;5;21;01mtransformers\u001b[39;00m\u001b[38;5;21;01m.\u001b[39;00m\u001b[38;5;21;01mutils\u001b[39;00m\u001b[38;5;21;01m.\u001b[39;00m\u001b[38;5;21;01mimport_utils\u001b[39;00m \u001b[38;5;28;01mimport\u001b[39;00m is_nltk_available, NLTK_IMPORT_ERROR\n\u001b[0;32m      8\u001b[0m \u001b[38;5;28;01mclass\u001b[39;00m \u001b[38;5;21;01mDenoisingAutoEncoderDataset\u001b[39;00m(Dataset):\n\u001b[0;32m      9\u001b[0m \u001b[38;5;250m    \u001b[39m\u001b[38;5;124;03m\"\"\"\u001b[39;00m\n\u001b[0;32m     10\u001b[0m \u001b[38;5;124;03m    The DenoisingAutoEncoderDataset returns InputExamples in the format: texts=[noise_fn(sentence), sentence]\u001b[39;00m\n\u001b[0;32m     11\u001b[0m \u001b[38;5;124;03m    It is used in combination with the DenoisingAutoEncoderLoss: Here, a decoder tries to re-construct the\u001b[39;00m\n\u001b[1;32m   (...)\u001b[0m\n\u001b[0;32m     15\u001b[0m \u001b[38;5;124;03m    :param noise_fn: A noise function: Given a string, it returns a string with noise, e.g. deleted words\u001b[39;00m\n\u001b[0;32m     16\u001b[0m \u001b[38;5;124;03m    \"\"\"\u001b[39;00m\n",
      "\u001b[1;31mImportError\u001b[0m: cannot import name 'is_nltk_available' from 'transformers.utils.import_utils' (c:\\Users\\kelvi\\anaconda3\\Lib\\site-packages\\transformers\\utils\\import_utils.py)"
     ]
    }
   ],
   "source": [
    "# Utilizamos la librería sentence-transformers para obtener el vector de embeddings de una frase\n",
    "from sentence_transformers import SentenceTransformer, util\n",
    "import numpy as np\n",
    "\n",
    "#Respuestas predefinidas\n",
    "respuestas = [\n",
    "    \"Los mejores destinos turísticos en Costa Rica incluyen el Parque Nacional Manuel Antonio, el Volcán Arenal y las playas de Guanacaste.\",\n",
    "    \"Para viajar por Costa Rica, puedes utilizar transporte público como buses y taxis, o rentar un coche para más flexibilidad.\",\n",
    "    \"El clima en Costa Rica es tropical con una estación seca de diciembre a abril y una estación lluviosa de mayo a noviembre.\",\n",
    "    \"La moneda oficial de Costa Rica es el colón costarricense. Los dólares estadounidenses también son ampliamente aceptados.\",\n",
    "    \"Se recomienda vacunarse contra el tifus y la hepatitis A y B antes de viajar a Costa Rica.\",\n",
    "    \"Los idiomas oficiales de Costa Rica son el español. Sin embargo, el inglés es comúnmente hablado en áreas turísticas.\",\n",
    "    \"Si buscas actividades de aventura, Costa Rica ofrece rafting, senderismo y canopy en varios parques nacionales.\",\n",
    "    \"En Costa Rica, es importante respetar la naturaleza y seguir todas las regulaciones ambientales para proteger la biodiversidad.\",\n",
    "    \"Para estadías prolongadas, considera alquilar un apartamento o casa en lugar de quedarte en hoteles, para una experiencia más local.\",\n",
    "    \"Para cualquier emergencia, puedes llamar al 911. El servicio está disponible en todo el país.\"\n",
    "]\n",
    "\n",
    "modelo = SentenceTransformer('all-MiniLM-L6-v2')\n",
    "respuestas_embeddings = modelo.encode(respuestas) #Transforma las respuestas en embeddings\n",
    "\n",
    "dataset_de_conocimiento = list(zip(respuestas, respuestas_embeddings)) #Convertir las respuestas en embeddings y almacenarlo en un dataset de conocimiento\n",
    "\n",
    "\n",
    "def generar_respuesta(pregunta):\n",
    "    pregunta_embedding = modelo.encode(pregunta) #Convertir la pregunta del usuario en embeddings\n",
    "    max_similitud = -1\n",
    "    respuesta_seleccionada = \"\"\n",
    "    for respuesta, emb in dataset_de_conocimiento:\n",
    "        similitud = util.cos_sim(pregunta_embedding, emb)[0][0] #Comparar los embeddings con similitud de coseno y mostrar la respuesta más acorde\n",
    "        if similitud > max_similitud:\n",
    "            max_similitud = similitud\n",
    "            respuesta_seleccionada = respuesta\n",
    "    return respuesta_seleccionada\n",
    "\n",
    "\n",
    "pregunta_usuario = \"¿Qué debería saber sobre el clima en Costa Rica?\"\n",
    "respuesta_chatbot = generar_respuesta(pregunta_usuario)\n",
    "print(\"Chatbot:\", respuesta_chatbot)"
   ]
  }
 ],
 "metadata": {
  "kernelspec": {
   "display_name": "base",
   "language": "python",
   "name": "python3"
  },
  "language_info": {
   "codemirror_mode": {
    "name": "ipython",
    "version": 3
   },
   "file_extension": ".py",
   "mimetype": "text/x-python",
   "name": "python",
   "nbconvert_exporter": "python",
   "pygments_lexer": "ipython3",
   "version": "3.11.5"
  }
 },
 "nbformat": 4,
 "nbformat_minor": 2
}
